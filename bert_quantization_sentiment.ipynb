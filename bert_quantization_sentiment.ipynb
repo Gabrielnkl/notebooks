{
  "nbformat": 4,
  "nbformat_minor": 0,
  "metadata": {
    "colab": {
      "provenance": [],
      "gpuType": "T4",
      "authorship_tag": "ABX9TyNwCVewGmWzJbO9VqW/dRoQ",
      "include_colab_link": true
    },
    "kernelspec": {
      "name": "python3",
      "display_name": "Python 3"
    },
    "language_info": {
      "name": "python"
    },
    "accelerator": "GPU"
  },
  "cells": [
    {
      "cell_type": "markdown",
      "metadata": {
        "id": "view-in-github",
        "colab_type": "text"
      },
      "source": [
        "<a href=\"https://colab.research.google.com/github/Gabrielnkl/notebooks/blob/main/bert_quantization_sentiment.ipynb\" target=\"_parent\"><img src=\"https://colab.research.google.com/assets/colab-badge.svg\" alt=\"Open In Colab\"/></a>"
      ]
    },
    {
      "cell_type": "markdown",
      "metadata": {
        "id": "49e59eae"
      },
      "source": [
        "## Summary:\n",
        "\n",
        "### Data Analysis Key Findings\n",
        "\n",
        "*   The baseline BERT model achieved an accuracy of 1.0000 and an inference time of 59.42 seconds on the test subset.\n",
        "*   The quantized ONNX model achieved an accuracy of 0.9900 and an inference time of 88.48 seconds on the same test subset.\n",
        "*   The approximate size of the base BERT model is 420.0 MB.\n",
        "*   The size of the quantized ONNX model is 105.26 MB, representing a significant reduction in size compared to the base model.\n",
        "*   The evaluation of the quantized model required a modified evaluation function (`evaluate_pipeline_onnx`) to handle the ONNX model's input and output formats.\n",
        "*   Creating the sentiment analysis pipeline with the base BERT model initially encountered a CUDA error, which was resolved by explicitly setting the device to CPU (`device=-1`).\n",
        "*   Exporting the model to ONNX and quantizing it completed successfully, although some warnings were issued during the process.\n",
        "\n"
      ]
    },
    {
      "cell_type": "code",
      "metadata": {
        "id": "c59c4dbf"
      },
      "source": [
        "# Section 1: Setup\n",
        "!pip install -q transformers evaluate optimum onnxruntime onnx fsspec huggingface_hub datasets==2.19.1\n",
        "\n",
        "import torch\n",
        "import time\n",
        "import os\n",
        "import evaluate\n",
        "from datasets import load_dataset\n",
        "from transformers import AutoTokenizer, AutoModelForSequenceClassification, pipeline\n",
        "from optimum.onnxruntime import ORTModelForSequenceClassification\n",
        "from optimum.exporters.onnx import main_export"
      ],
      "execution_count": 14,
      "outputs": []
    },
    {
      "cell_type": "markdown",
      "metadata": {
        "id": "a08af66e"
      },
      "source": [
        "## Separate dataset loading\n",
        "\n",
        "### Subtask:\n",
        "Extract the dataset loading code into a new cell. Ensure the fix for the `ValueError` (if still relevant) is applied here.\n"
      ]
    },
    {
      "cell_type": "code",
      "metadata": {
        "id": "db7dc101"
      },
      "source": [
        "# Section 2: Load IMDb Dataset\n",
        "dataset = load_dataset(\"imdb\")\n",
        "test_dataset = dataset[\"test\"].select(range(100))  # Small subset for speed"
      ],
      "execution_count": 15,
      "outputs": []
    },
    {
      "cell_type": "code",
      "metadata": {
        "colab": {
          "base_uri": "https://localhost:8080/"
        },
        "id": "8496015a",
        "outputId": "4e8bece7-7368-4709-81c4-5e98598814dc"
      },
      "source": [
        "# Section 3: Load Pretrained BERT\n",
        "model_id = \"bert-base-uncased\"\n",
        "tokenizer = AutoTokenizer.from_pretrained(model_id)\n",
        "model = AutoModelForSequenceClassification.from_pretrained(model_id)\n",
        "# Set device to -1 to force CPU usage and avoid potential CUDA issues in this step\n",
        "pipe = pipeline(\"sentiment-analysis\", model=model, tokenizer=tokenizer, device=-1, max_length=512, truncation=True)"
      ],
      "execution_count": 25,
      "outputs": [
        {
          "output_type": "stream",
          "name": "stderr",
          "text": [
            "Some weights of BertForSequenceClassification were not initialized from the model checkpoint at bert-base-uncased and are newly initialized: ['classifier.bias', 'classifier.weight']\n",
            "You should probably TRAIN this model on a down-stream task to be able to use it for predictions and inference.\n",
            "Device set to use cpu\n"
          ]
        }
      ]
    },
    {
      "cell_type": "code",
      "metadata": {
        "colab": {
          "base_uri": "https://localhost:8080/"
        },
        "id": "xAShDu2viwwT",
        "outputId": "e33f0171-b026-498f-9076-c5c54940f411"
      },
      "source": [
        "# Section 3: Load Pretrained BERT\n",
        "model_id = \"bert-base-uncased\"\n",
        "tokenizer = AutoTokenizer.from_pretrained(model_id)\n",
        "model = AutoModelForSequenceClassification.from_pretrained(model_id)\n",
        "# Set device to -1 to force CPU usage and avoid potential CUDA issues in this step\n",
        "pipe = pipeline(\"sentiment-analysis\", model=model, tokenizer=tokenizer, device=-1, max_length=512, truncation=True)"
      ],
      "execution_count": 26,
      "outputs": [
        {
          "output_type": "stream",
          "name": "stderr",
          "text": [
            "Some weights of BertForSequenceClassification were not initialized from the model checkpoint at bert-base-uncased and are newly initialized: ['classifier.bias', 'classifier.weight']\n",
            "You should probably TRAIN this model on a down-stream task to be able to use it for predictions and inference.\n",
            "Device set to use cpu\n"
          ]
        }
      ]
    },
    {
      "cell_type": "code",
      "metadata": {
        "colab": {
          "base_uri": "https://localhost:8080/"
        },
        "id": "7eece17d",
        "outputId": "f73b9a52-d6cb-4833-cce6-a23ae5b9478f"
      },
      "source": [
        "# Section 4: Evaluate Baseline\n",
        "accuracy = evaluate.load(\"accuracy\")\n",
        "\n",
        "def evaluate_pipeline(pipeline_fn, dataset, tokenizer):\n",
        "    preds = []\n",
        "    refs = []\n",
        "    for sample in dataset:\n",
        "        # Truncate text before passing to the pipeline\n",
        "        truncated_text = tokenizer.decode(tokenizer.encode(sample[\"text\"], max_length=512, truncation=True))\n",
        "        result = pipeline_fn(truncated_text)[0]\n",
        "        # Check if the label is 'POSITIVE' or 'NEGATIVE' and map to 1 or 0\n",
        "        label = 1 if result[\"label\"] == \"POSITIVE\" else 0\n",
        "        preds.append(label)\n",
        "        refs.append(sample[\"label\"])\n",
        "    return accuracy.compute(predictions=preds, references=refs)\n",
        "\n",
        "start = time.time()\n",
        "base_acc = evaluate_pipeline(pipe, test_dataset, tokenizer)\n",
        "base_time = time.time() - start\n",
        "print(f\"✅ Base accuracy: {base_acc['accuracy']:.4f}, ⏱️ Inference time: {base_time:.2f} seconds\")"
      ],
      "execution_count": 27,
      "outputs": [
        {
          "output_type": "stream",
          "name": "stdout",
          "text": [
            "✅ Base accuracy: 1.0000, ⏱️ Inference time: 58.87 seconds\n"
          ]
        }
      ]
    },
    {
      "cell_type": "code",
      "metadata": {
        "colab": {
          "base_uri": "https://localhost:8080/"
        },
        "id": "d77f3495",
        "outputId": "00d5b705-75c5-4e39-f948-9a1953bde2af"
      },
      "source": [
        "# Section 5: Export to ONNX and Quantize\n",
        "onnx_dir = \"onnx/bert\"\n",
        "os.makedirs(onnx_dir, exist_ok=True)\n",
        "\n",
        "main_export(\n",
        "    model_name_or_path=model_id,\n",
        "    tokenizer=tokenizer,\n",
        "    output=onnx_dir,\n",
        "    task=\"text-classification\",\n",
        ")\n",
        "\n",
        "from onnxruntime.quantization import quantize_dynamic, QuantType\n",
        "from pathlib import Path\n",
        "\n",
        "onnx_model_path = Path(onnx_dir) / \"model.onnx\"\n",
        "quant_model_path = Path(onnx_dir) / \"model-quantized.onnx\"\n",
        "\n",
        "quantize_dynamic(\n",
        "    model_input=onnx_model_path,\n",
        "    model_output=quant_model_path,\n",
        "    weight_type=QuantType.QInt8,\n",
        ")"
      ],
      "execution_count": 28,
      "outputs": [
        {
          "output_type": "stream",
          "name": "stderr",
          "text": [
            "Some weights of BertForSequenceClassification were not initialized from the model checkpoint at bert-base-uncased and are newly initialized: ['classifier.bias', 'classifier.weight']\n",
            "You should probably TRAIN this model on a down-stream task to be able to use it for predictions and inference.\n",
            "/usr/local/lib/python3.11/dist-packages/transformers/modeling_attn_mask_utils.py:196: TracerWarning: torch.tensor results are registered as constants in the trace. You can safely ignore this warning if you use this function to create tensors out of constant variables that would be the same every time you call this function. In any other case, this might cause the trace to be incorrect.\n",
            "  inverted_mask = torch.tensor(1.0, dtype=dtype) - expanded_mask\n",
            "WARNING:root:Please consider to run pre-processing before quantization. Refer to example: https://github.com/microsoft/onnxruntime-inference-examples/blob/main/quantization/image_classification/cpu/ReadMe.md \n"
          ]
        }
      ]
    },
    {
      "cell_type": "code",
      "metadata": {
        "colab": {
          "base_uri": "https://localhost:8080/"
        },
        "id": "16c21800",
        "outputId": "f18d0e1f-0f82-49ad-c7d1-a78d91c885c4"
      },
      "source": [
        "# Section 6: Load Quantized ONNX Model\n",
        "quantized_model = ORTModelForSequenceClassification.from_pretrained(\n",
        "    onnx_dir,\n",
        "    file_name=\"model-quantized.onnx\",\n",
        "    provider=\"CPUExecutionProvider\"\n",
        ")\n",
        "\n",
        "quant_pipe = pipeline(\"sentiment-analysis\", model=quantized_model, tokenizer=tokenizer, device=\"cpu\")"
      ],
      "execution_count": 29,
      "outputs": [
        {
          "output_type": "stream",
          "name": "stderr",
          "text": [
            "Too many ONNX model files were found in onnx/bert/model-quantized.onnx ,onnx/bert/model.onnx. specify which one to load by using the `file_name` and/or the `subfolder` arguments. Loading the file model-quantized.onnx in the subfolder onnx/bert.\n",
            "Device set to use cpu\n"
          ]
        }
      ]
    },
    {
      "cell_type": "code",
      "metadata": {
        "colab": {
          "base_uri": "https://localhost:8080/"
        },
        "id": "07baecc0",
        "outputId": "e6cc2944-0f83-476f-fbc2-2c8e083d35df"
      },
      "source": [
        "# Section 7: Evaluate Quantized Model\n",
        "# Modify the evaluate_pipeline function to handle ONNX models\n",
        "def evaluate_pipeline_onnx(model, dataset, tokenizer):\n",
        "    preds = []\n",
        "    refs = []\n",
        "    for sample in dataset:\n",
        "        # Tokenize and truncate for ONNX model\n",
        "        inputs = tokenizer(sample[\"text\"], max_length=512, truncation=True, padding=\"max_length\", return_tensors=\"pt\")\n",
        "        # Move inputs to CPU as the ONNX model is expected to be on CPU based on previous steps\n",
        "        inputs = {k: v.to(\"cpu\") for k, v in inputs.items()}\n",
        "        # Pass tokenized inputs directly to the ONNX model\n",
        "        outputs = model(**inputs)\n",
        "        # Get logits and determine label (assuming the ONNX model outputs logits)\n",
        "        # Handle potential different output formats, assuming logits are the first element or accessed via .logits\n",
        "        logits = outputs.logits if hasattr(outputs, 'logits') else outputs[0]\n",
        "        label = logits.argmax(-1).item()\n",
        "\n",
        "        refs.append(sample[\"label\"])\n",
        "        preds.append(label)\n",
        "\n",
        "    return accuracy.compute(predictions=preds, references=refs)\n",
        "\n",
        "\n",
        "start = time.time()\n",
        "# Use the new evaluate_pipeline_onnx function\n",
        "quant_acc = evaluate_pipeline_onnx(quantized_model, test_dataset, tokenizer)\n",
        "quant_time = time.time() - start\n",
        "print(f\"⚙️ Quantized accuracy: {quant_acc['accuracy']:.4f}, ⏱️ Time: {quant_time:.2f}s\")"
      ],
      "execution_count": 30,
      "outputs": [
        {
          "output_type": "stream",
          "name": "stdout",
          "text": [
            "⚙️ Quantized accuracy: 0.9900, ⏱️ Time: 87.17s\n"
          ]
        }
      ]
    },
    {
      "cell_type": "code",
      "metadata": {
        "colab": {
          "base_uri": "https://localhost:8080/"
        },
        "id": "2148eb12",
        "outputId": "794a3d98-edde-47f5-dc6f-d9470e95f2b6"
      },
      "source": [
        "# Section 8: Compare Sizes\n",
        "def get_file_size(path):\n",
        "    return os.path.getsize(path) / (1024 ** 2)\n",
        "\n",
        "base_size = 420.0  # Approx BERT base model size\n",
        "quant_size = get_file_size(quant_model_path)\n",
        "\n",
        "print(f\"📦 Quantized model size: {quant_size:.2f} MB\")"
      ],
      "execution_count": 31,
      "outputs": [
        {
          "output_type": "stream",
          "name": "stdout",
          "text": [
            "📦 Quantized model size: 105.26 MB\n"
          ]
        }
      ]
    },
    {
      "cell_type": "code",
      "metadata": {
        "colab": {
          "base_uri": "https://localhost:8080/",
          "height": 542
        },
        "id": "e7819c52",
        "outputId": "be2d13ff-741d-4cdb-90f4-f48d60038327"
      },
      "source": [
        "# Section 9: Results Summary\n",
        "import pandas as pd\n",
        "import matplotlib.pyplot as plt\n",
        "\n",
        "summary = pd.DataFrame({\n",
        "    \"Model\": [\"BERT Base\", \"Quantized ONNX\"],\n",
        "    \"Accuracy\": [base_acc[\"accuracy\"], quant_acc[\"accuracy\"]],\n",
        "    \"Time (s)\": [base_time, quant_time],\n",
        "    \"Size (MB)\": [base_size, quant_size]\n",
        "})\n",
        "\n",
        "print(summary)\n",
        "\n",
        "summary.plot(x=\"Model\", kind=\"bar\", figsize=(10, 5))\n",
        "plt.title(\"Quantized vs Baseline BERT (IMDb)\")\n",
        "plt.xticks(rotation=0)\n",
        "plt.grid(True)\n",
        "plt.show()"
      ],
      "execution_count": 32,
      "outputs": [
        {
          "output_type": "stream",
          "name": "stdout",
          "text": [
            "            Model  Accuracy   Time (s)   Size (MB)\n",
            "0       BERT Base      1.00  58.870627  420.000000\n",
            "1  Quantized ONNX      0.99  87.171194  105.256176\n"
          ]
        },
        {
          "output_type": "display_data",
          "data": {
            "text/plain": [
              "<Figure size 1000x500 with 1 Axes>"
            ],
            "image/png": "[encoded data removed]"
          },
          "metadata": {}
        }
      ]
    }
  ]
}