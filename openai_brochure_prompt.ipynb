{
  "nbformat": 4,
  "nbformat_minor": 0,
  "metadata": {
    "colab": {
      "provenance": [],
      "authorship_tag": "ABX9TyOuGrwaok4VUJRVhHQYhYCZ",
      "include_colab_link": true
    },
    "kernelspec": {
      "name": "python3",
      "display_name": "Python 3"
    },
    "language_info": {
      "name": "python"
    }
  },
  "cells": [
    {
      "cell_type": "markdown",
      "metadata": {
        "id": "view-in-github",
        "colab_type": "text"
      },
      "source": [
        "<a href=\"https://colab.research.google.com/github/Gabrielnkl/notebooks/blob/main/openai_brochure_prompt.ipynb\" target=\"_parent\"><img src=\"https://colab.research.google.com/assets/colab-badge.svg\" alt=\"Open In Colab\"/></a>"
      ]
    },
    {
      "cell_type": "code",
      "source": [
        "# from exercise: https://github.com/ed-donner/llm_engineering/blob/main/week1/day5.ipynb"
      ],
      "metadata": {
        "id": "-0422S56l0pR"
      },
      "execution_count": 21,
      "outputs": []
    },
    {
      "cell_type": "code",
      "source": [
        "!pip install python-dotenv"
      ],
      "metadata": {
        "colab": {
          "base_uri": "https://localhost:8080/"
        },
        "id": "ZsCMkKqmjz89",
        "outputId": "cdd59aab-d883-466a-fdf8-a334e67cc70c"
      },
      "execution_count": 2,
      "outputs": [
        {
          "output_type": "stream",
          "name": "stdout",
          "text": [
            "Collecting python-dotenv\n",
            "  Downloading python_dotenv-1.1.0-py3-none-any.whl.metadata (24 kB)\n",
            "Downloading python_dotenv-1.1.0-py3-none-any.whl (20 kB)\n",
            "Installing collected packages: python-dotenv\n",
            "Successfully installed python-dotenv-1.1.0\n"
          ]
        }
      ]
    },
    {
      "cell_type": "code",
      "execution_count": 3,
      "metadata": {
        "id": "0LqDut5fjn3O"
      },
      "outputs": [],
      "source": [
        "import os\n",
        "import requests\n",
        "import json\n",
        "from typing import List\n",
        "from dotenv import load_dotenv\n",
        "from bs4 import BeautifulSoup\n",
        "from IPython.display import Markdown, display, update_display\n",
        "from openai import OpenAI\n"
      ]
    },
    {
      "cell_type": "code",
      "source": [
        "# Initialize and constants\n",
        "\n",
        "load_dotenv(override=True)\n",
        "api_key = os.getenv('OPENAI_API_KEY')\n",
        "\n",
        "if api_key and api_key.startswith('sk-proj-') and len(api_key)>10:\n",
        "    print(\"API key looks good so far\")\n",
        "else:\n",
        "    print(\"There might be a problem with your API key? Please visit the troubleshooting notebook!\")\n",
        "\n",
        "MODEL = 'gpt-4o-mini'\n",
        "openai = OpenAI()"
      ],
      "metadata": {
        "colab": {
          "base_uri": "https://localhost:8080/"
        },
        "id": "0zvKMli2jpps",
        "outputId": "60ba7d7f-fb38-430e-e88a-43d4a905ea93"
      },
      "execution_count": 5,
      "outputs": [
        {
          "output_type": "stream",
          "name": "stdout",
          "text": [
            "API key looks good so far\n"
          ]
        }
      ]
    },
    {
      "cell_type": "code",
      "source": [
        "# A class to represent a Webpage\n",
        "\n",
        "# Some websites need you to use proper headers when fetching them:\n",
        "headers = {\n",
        " \"User-Agent\": \"Mozilla/5.0 (Windows NT 10.0; Win64; x64) AppleWebKit/537.36 (KHTML, like Gecko) Chrome/117.0.0.0 Safari/537.36\"\n",
        "}\n",
        "\n",
        "class Website:\n",
        "    \"\"\"\n",
        "    A utility class to represent a Website that we have scraped, now with links\n",
        "    \"\"\"\n",
        "\n",
        "    def __init__(self, url):\n",
        "        self.url = url\n",
        "        response = requests.get(url, headers=headers)\n",
        "        self.body = response.content\n",
        "        soup = BeautifulSoup(self.body, 'html.parser')\n",
        "        self.title = soup.title.string if soup.title else \"No title found\"\n",
        "        if soup.body:\n",
        "            for irrelevant in soup.body([\"script\", \"style\", \"img\", \"input\"]):\n",
        "                irrelevant.decompose()\n",
        "            self.text = soup.body.get_text(separator=\"\\n\", strip=True)\n",
        "        else:\n",
        "            self.text = \"\"\n",
        "        links = [link.get('href') for link in soup.find_all('a')]\n",
        "        self.links = [link for link in links if link]\n",
        "\n",
        "    def get_contents(self):\n",
        "        return f\"Webpag\""
      ],
      "metadata": {
        "id": "2Cne0mRPkKJJ"
      },
      "execution_count": 7,
      "outputs": []
    },
    {
      "cell_type": "code",
      "source": [
        "link_system_prompt = \"You are provided with a list of links found on a webpage. \\\n",
        "You are able to decide which of the links would be most relevant to include in a brochure about the company, \\\n",
        "such as links to an About page, or a Company page, or Careers/Jobs pages.\\n\"\n",
        "link_system_prompt += \"You should respond in JSON as in this example:\"\n",
        "link_system_prompt += \"\"\"\n",
        "{\n",
        "    \"links\": [\n",
        "        {\"type\": \"about page\", \"url\": \"https://full.url/goes/here/about\"},\n",
        "        {\"type\": \"careers page\": \"url\": \"https://another.full.url/careers\"}\n",
        "    ]\n",
        "}\n",
        "\"\"\""
      ],
      "metadata": {
        "id": "m_u0G1RSkXBQ"
      },
      "execution_count": 8,
      "outputs": []
    },
    {
      "cell_type": "code",
      "source": [
        "def get_links_user_prompt(website):\n",
        "    user_prompt = f\"Here is the list of links on the website of {website.url} - \"\n",
        "    user_prompt += \"please decide which of these are relevant web links for a brochure about the company, respond with the full https URL in JSON format. \\\n",
        "Do not include Terms of Service, Privacy, email links.\\n\"\n",
        "    user_prompt += \"Links (some might be relative links):\\n\"\n",
        "    user_prompt += \"\\n\".join(website.links)\n",
        "    return user_prompt"
      ],
      "metadata": {
        "id": "5AuJGm-ikpBe"
      },
      "execution_count": 9,
      "outputs": []
    },
    {
      "cell_type": "code",
      "source": [
        "def get_links(url):\n",
        "    website = Website(url)\n",
        "    response = openai.chat.completions.create(\n",
        "        model=MODEL,\n",
        "        messages=[\n",
        "            {\"role\": \"system\", \"content\": link_system_prompt},\n",
        "            {\"role\": \"user\", \"content\": get_links_user_prompt(website)}\n",
        "      ],\n",
        "        response_format={\"type\": \"json_object\"}\n",
        "    )\n",
        "    result = response.choices[0].message.content\n",
        "    return json.loads(result)"
      ],
      "metadata": {
        "id": "WSCumYx0kvg_"
      },
      "execution_count": 10,
      "outputs": []
    },
    {
      "cell_type": "code",
      "source": [
        "huggingface = Website(\"https://huggingface.co\")\n",
        "huggingface.links"
      ],
      "metadata": {
        "colab": {
          "base_uri": "https://localhost:8080/"
        },
        "id": "aGFCvZ61kz2-",
        "outputId": "de7868d7-31dd-4d64-9052-96127b58841a"
      },
      "execution_count": 11,
      "outputs": [
        {
          "output_type": "execute_result",
          "data": {
            "text/plain": [
              "['/',\n",
              " '/models',\n",
              " '/datasets',\n",
              " '/spaces',\n",
              " '/docs',\n",
              " '/enterprise',\n",
              " '/pricing',\n",
              " '/login',\n",
              " '/join',\n",
              " '/spaces',\n",
              " '/models',\n",
              " '/mistralai/Magistral-Small-2506',\n",
              " '/openbmb/MiniCPM4-8B',\n",
              " '/deepseek-ai/DeepSeek-R1-0528',\n",
              " '/Qwen/Qwen3-Embedding-0.6B-GGUF',\n",
              " '/echo840/MonkeyOCR',\n",
              " '/models',\n",
              " '/spaces/enzostvs/deepsite',\n",
              " '/spaces/ResembleAI/Chatterbox',\n",
              " '/spaces/multimodalart/wan2-1-fast',\n",
              " '/spaces/aisheets/sheets',\n",
              " '/spaces/NihalGazi/Text-To-Speech-Unlimited',\n",
              " '/spaces',\n",
              " '/datasets/nvidia/Nemotron-Personas',\n",
              " '/datasets/open-thoughts/OpenThoughts3-1.2M',\n",
              " '/datasets/fka/awesome-chatgpt-prompts',\n",
              " '/datasets/a-m-team/AM-DeepSeek-R1-0528-Distilled',\n",
              " '/datasets/institutional/institutional-books-1.0',\n",
              " '/datasets',\n",
              " '/join',\n",
              " '/pricing#endpoints',\n",
              " '/pricing#spaces',\n",
              " '/pricing',\n",
              " '/enterprise',\n",
              " '/enterprise',\n",
              " '/enterprise',\n",
              " '/enterprise',\n",
              " '/enterprise',\n",
              " '/enterprise',\n",
              " '/enterprise',\n",
              " '/allenai',\n",
              " '/facebook',\n",
              " '/amazon',\n",
              " '/google',\n",
              " '/Intel',\n",
              " '/microsoft',\n",
              " '/grammarly',\n",
              " '/Writer',\n",
              " '/docs/transformers',\n",
              " '/docs/diffusers',\n",
              " '/docs/safetensors',\n",
              " '/docs/huggingface_hub',\n",
              " '/docs/tokenizers',\n",
              " '/docs/trl',\n",
              " '/docs/transformers.js',\n",
              " '/docs/smolagents',\n",
              " '/docs/peft',\n",
              " '/docs/datasets',\n",
              " '/docs/text-generation-inference',\n",
              " '/docs/accelerate',\n",
              " '/models',\n",
              " '/datasets',\n",
              " '/spaces',\n",
              " '/changelog',\n",
              " 'https://endpoints.huggingface.co',\n",
              " '/chat',\n",
              " '/huggingface',\n",
              " '/brand',\n",
              " '/terms-of-service',\n",
              " '/privacy',\n",
              " 'https://apply.workable.com/huggingface/',\n",
              " 'mailto:press@huggingface.co',\n",
              " '/learn',\n",
              " '/docs',\n",
              " '/blog',\n",
              " 'https://discuss.huggingface.co',\n",
              " 'https://status.huggingface.co/',\n",
              " 'https://github.com/huggingface',\n",
              " 'https://twitter.com/huggingface',\n",
              " 'https://www.linkedin.com/company/huggingface/',\n",
              " '/join/discord']"
            ]
          },
          "metadata": {},
          "execution_count": 11
        }
      ]
    },
    {
      "cell_type": "code",
      "source": [
        "get_links(\"https://huggingface.co\")\n"
      ],
      "metadata": {
        "colab": {
          "base_uri": "https://localhost:8080/"
        },
        "id": "ld5-fsFmk6nI",
        "outputId": "917ad8dc-0c27-47e6-ba15-9f18ff7c4551"
      },
      "execution_count": 12,
      "outputs": [
        {
          "output_type": "execute_result",
          "data": {
            "text/plain": [
              "{'links': [{'type': 'about page', 'url': 'https://huggingface.co/huggingface'},\n",
              "  {'type': 'careers page', 'url': 'https://apply.workable.com/huggingface/'},\n",
              "  {'type': 'enterprise page', 'url': 'https://huggingface.co/enterprise'},\n",
              "  {'type': 'pricing page', 'url': 'https://huggingface.co/pricing'},\n",
              "  {'type': 'blog page', 'url': 'https://huggingface.co/blog'},\n",
              "  {'type': 'discussion page', 'url': 'https://discuss.huggingface.co'},\n",
              "  {'type': 'GitHub page', 'url': 'https://github.com/huggingface'},\n",
              "  {'type': 'LinkedIn page',\n",
              "   'url': 'https://www.linkedin.com/company/huggingface/'},\n",
              "  {'type': 'Twitter page', 'url': 'https://twitter.com/huggingface'}]}"
            ]
          },
          "metadata": {},
          "execution_count": 12
        }
      ]
    },
    {
      "cell_type": "code",
      "source": [
        "def get_all_details(url):\n",
        "    result = \"Landing page:\\n\"\n",
        "    result += Website(url).get_contents()\n",
        "    links = get_links(url)\n",
        "    print(\"Found links:\", links)\n",
        "    for link in links[\"links\"]:\n",
        "        result += f\"\\n\\n{link['type']}\\n\"\n",
        "        result += Website(link[\"url\"]).get_contents()\n",
        "    return result"
      ],
      "metadata": {
        "id": "3-64uX-GlAbV"
      },
      "execution_count": 14,
      "outputs": []
    },
    {
      "cell_type": "code",
      "source": [
        "print(get_all_details(\"https://huggingface.co\"))\n"
      ],
      "metadata": {
        "colab": {
          "base_uri": "https://localhost:8080/"
        },
        "id": "Luyi7RV6lD1b",
        "outputId": "259a87cb-3bb4-40d4-b8a1-bb4cda9d77e9"
      },
      "execution_count": 15,
      "outputs": [
        {
          "output_type": "stream",
          "name": "stdout",
          "text": [
            "Found links: {'links': [{'type': 'about page', 'url': 'https://huggingface.co/huggingface'}, {'type': 'careers page', 'url': 'https://apply.workable.com/huggingface/'}, {'type': 'enterprise page', 'url': 'https://huggingface.co/enterprise'}, {'type': 'pricing page', 'url': 'https://huggingface.co/pricing'}, {'type': 'blog page', 'url': 'https://huggingface.co/blog'}, {'type': 'docs page', 'url': 'https://huggingface.co/docs'}]}\n",
            "Landing page:\n",
            "Webpag\n",
            "\n",
            "about page\n",
            "Webpag\n",
            "\n",
            "careers page\n",
            "Webpag\n",
            "\n",
            "enterprise page\n",
            "Webpag\n",
            "\n",
            "pricing page\n",
            "Webpag\n",
            "\n",
            "blog page\n",
            "Webpag\n",
            "\n",
            "docs page\n",
            "Webpag\n"
          ]
        }
      ]
    },
    {
      "cell_type": "code",
      "source": [
        "system_prompt = \"You are an assistant that analyzes the contents of several relevant pages from a company website \\\n",
        "and creates a short brochure about the company for prospective customers, investors and recruits. Respond in markdown.\\\n",
        "Include details of company culture, customers and careers/jobs if you have the information.\"\n"
      ],
      "metadata": {
        "id": "16C2dIeYlJ_h"
      },
      "execution_count": 16,
      "outputs": []
    },
    {
      "cell_type": "code",
      "source": [
        "def get_brochure_user_prompt(company_name, url):\n",
        "    user_prompt = f\"You are looking at a company called: {company_name}\\n\"\n",
        "    user_prompt += f\"Here are the contents of its landing page and other relevant pages; use this information to build a short brochure of the company in markdown.\\n\"\n",
        "    user_prompt += get_all_details(url)\n",
        "    user_prompt = user_prompt[:5_000] # Truncate if more than 5,000 characters\n",
        "    return user_prompt"
      ],
      "metadata": {
        "id": "6yMtrSbMlM0H"
      },
      "execution_count": 17,
      "outputs": []
    },
    {
      "cell_type": "code",
      "source": [
        "get_brochure_user_prompt(\"HuggingFace\", \"https://huggingface.co\")\n"
      ],
      "metadata": {
        "colab": {
          "base_uri": "https://localhost:8080/",
          "height": 107
        },
        "id": "BE2-iWeAlO4l",
        "outputId": "2cd8e3f3-a504-4379-d6ce-7d05ae47f091"
      },
      "execution_count": 18,
      "outputs": [
        {
          "output_type": "stream",
          "name": "stdout",
          "text": [
            "Found links: {'links': [{'type': 'about page', 'url': 'https://huggingface.co/huggingface'}, {'type': 'careers page', 'url': 'https://apply.workable.com/huggingface/'}, {'type': 'enterprise page', 'url': 'https://huggingface.co/enterprise'}, {'type': 'pricing page', 'url': 'https://huggingface.co/pricing'}, {'type': 'blog', 'url': 'https://huggingface.co/blog'}, {'type': 'discussion forum', 'url': 'https://discuss.huggingface.co'}, {'type': 'GitHub', 'url': 'https://github.com/huggingface'}, {'type': 'LinkedIn', 'url': 'https://www.linkedin.com/company/huggingface'}, {'type': 'Twitter', 'url': 'https://twitter.com/huggingface'}]}\n"
          ]
        },
        {
          "output_type": "execute_result",
          "data": {
            "text/plain": [
              "'You are looking at a company called: HuggingFace\\nHere are the contents of its landing page and other relevant pages; use this information to build a short brochure of the company in markdown.\\nLanding page:\\nWebpag\\n\\nabout page\\nWebpag\\n\\ncareers page\\nWebpag\\n\\nenterprise page\\nWebpag\\n\\npricing page\\nWebpag\\n\\nblog\\nWebpag\\n\\ndiscussion forum\\nWebpag\\n\\nGitHub\\nWebpag\\n\\nLinkedIn\\nWebpag\\n\\nTwitter\\nWebpag'"
            ],
            "application/vnd.google.colaboratory.intrinsic+json": {
              "type": "string"
            }
          },
          "metadata": {},
          "execution_count": 18
        }
      ]
    },
    {
      "cell_type": "code",
      "source": [
        "def create_brochure(company_name, url):\n",
        "    response = openai.chat.completions.create(\n",
        "        model=MODEL,\n",
        "        messages=[\n",
        "            {\"role\": \"system\", \"content\": system_prompt},\n",
        "            {\"role\": \"user\", \"content\": get_brochure_user_prompt(company_name, url)}\n",
        "          ],\n",
        "    )\n",
        "    result = response.choices[0].message.content\n",
        "    display(Markdown(result))"
      ],
      "metadata": {
        "id": "MFlT0YTBlSa_"
      },
      "execution_count": 19,
      "outputs": []
    },
    {
      "cell_type": "code",
      "source": [
        "create_brochure(\"HuggingFace\", \"https://huggingface.co\")\n"
      ],
      "metadata": {
        "colab": {
          "base_uri": "https://localhost:8080/",
          "height": 951
        },
        "id": "ZsdPwhiqlWWv",
        "outputId": "2e161c91-1d1c-4ac0-cc5d-437202344f36"
      },
      "execution_count": 20,
      "outputs": [
        {
          "output_type": "stream",
          "name": "stdout",
          "text": [
            "Found links: {'links': [{'type': 'about page', 'url': 'https://huggingface.co/huggingface'}, {'type': 'careers page', 'url': 'https://apply.workable.com/huggingface/'}, {'type': 'enterprise page', 'url': 'https://huggingface.co/enterprise'}, {'type': 'pricing page', 'url': 'https://huggingface.co/pricing'}, {'type': 'blog page', 'url': 'https://huggingface.co/blog'}, {'type': 'docs page', 'url': 'https://huggingface.co/docs'}]}\n"
          ]
        },
        {
          "output_type": "display_data",
          "data": {
            "text/plain": [
              "<IPython.core.display.Markdown object>"
            ],
            "text/markdown": "# Hugging Face Brochure\n\n## Welcome to Hugging Face\n\nHugging Face is at the forefront of the AI and machine learning revolution. Our mission is to democratize AI and make it accessible for everyone through cutting-edge technology, open-source projects, and a robust community of developers and researchers.\n\n### Company Overview\n\n- **Founded:** [Year]\n- **Headquarters:** [Location]\n- **Core Focus:** Natural Language Processing (NLP), Machine Learning Models, AI Tools\n\n### Company Culture\n\nAt Hugging Face, we foster a culture of collaboration, inclusivity, and innovation. Our team is passionate about pushing the boundaries of what AI can achieve. Here are some cultural highlights:\n\n- **Open Culture:** Encouragement of open communication and idea sharing.\n- **Community First:** Collaboration with developers, researchers, and educators globally.\n- **Continuous Learning:** We value personal and professional development, offering resources and support.\n- **Diversity and Inclusion:** Hugging Face actively promotes a diverse workforce to drive creativity and innovation.\n\n### Customers\n\nOur users range from individual developers and researchers to large corporations looking to integrate AI solutions into their workflows. Hugging Face is trusted by:\n\n- Startups looking to leverage AI for innovation\n- Enterprises integrating AI for efficiency and scalability\n- Researchers pioneering new technology in machine learning\n\n### Careers at Hugging Face\n\nJoin our dynamic team and become part of a groundbreaking journey in AI! We are on the lookout for passionate individuals in various roles, including:\n\n- **Software Engineers** specializing in NLP and machine learning\n- **Product Managers** to spearhead the development of our AI products\n- **Data Scientists** to analyze and interpret complex data\n- **Community Managers** to engage and support our vibrant user community\n\n**Why Work Here?**\n- **Impactful Projects:** Work on projects that change the landscape of AI.\n- **Flexible Work Environment:** We offer a hybrid and remote work policy to suit your lifestyle.\n- **Great Benefits:** Comprehensive health plans, professional development funds, and more!\n\n### Get Started \n\nExplore our diverse range of AI tools by checking out our [Enterprise Solutions](Link to enterprise page) or learn more about [Pricing](Link to pricing page) to find what fits your needs. Dive into a wealth of knowledge on our [Blog](Link to blog page) or explore in-depth topics in our [Docs](Link to docs page).\n\n### Let's Connect!\n\nJoin us in revolutionizing the AI space! For inquiries, please visit our [Contact Page](Link to contact page).\n\n---\n\nFor the latest updates, follow us on social media and subscribe to our newsletter. Thank you for considering Hugging Face as your partner in AI innovation!"
          },
          "metadata": {}
        }
      ]
    }
  ]
}